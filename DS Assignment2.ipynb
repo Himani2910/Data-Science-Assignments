{
 "cells": [
  {
   "cell_type": "markdown",
   "id": "6f2bc970-2252-4f51-ba73-a9a58eab9057",
   "metadata": {},
   "source": [
    "## Python Assignment: Data Structures, Functions, Numpy & Pandas"
   ]
  },
  {
   "cell_type": "markdown",
   "id": "55d7c79f-c880-4292-a03b-0ecafc9318de",
   "metadata": {},
   "source": [
    "### Section A: Data Structures & Control Structures"
   ]
  },
  {
   "cell_type": "markdown",
   "id": "3ff3bfe2-77a0-45f5-a139-aa1eeb601e35",
   "metadata": {},
   "source": [
    "##### 1.\tCreate a list of 5 integers. Perform and print the result of the following operations: append, extend, insert, remove, pop, clear, index, count, sort, and reverse."
   ]
  },
  {
   "cell_type": "code",
   "execution_count": 2,
   "id": "bd47b459-4750-446a-8f3a-de4227ad2285",
   "metadata": {},
   "outputs": [
    {
     "name": "stdout",
     "output_type": "stream",
     "text": [
      "Original list: [10, 20, 30, 40, 50]\n",
      "After append(60): [10, 20, 30, 40, 50, 60]\n",
      "After extend([70, 80]): [10, 20, 30, 40, 50, 60, 70, 80]\n",
      "After insert(2, 25): [10, 20, 25, 30, 40, 50, 60, 70, 80]\n",
      "After remove(40): [10, 20, 25, 30, 50, 60, 70, 80]\n",
      "After pop(): [10, 20, 25, 30, 50, 60, 70] | Popped element: 80\n",
      "After clear(): []\n",
      "Index of 25: 2\n",
      "List after adding another 20: [10, 20, 25, 30, 50, 60, 70, 20]\n",
      "Count of 20: 2\n",
      "After sort(): [10, 20, 20, 25, 30, 50, 60, 70]\n",
      "After reverse(): [70, 60, 50, 30, 25, 20, 20, 10]\n"
     ]
    }
   ],
   "source": [
    "# Create a list of 5 integers\n",
    "numbers = [10, 20, 30, 40, 50]\n",
    "print(\"Original list:\", numbers)\n",
    "\n",
    "numbers.append(60)\n",
    "print(\"After append(60):\", numbers)\n",
    "\n",
    "numbers.extend([70, 80])\n",
    "print(\"After extend([70, 80]):\", numbers)\n",
    "\n",
    "numbers.insert(2, 25)  # Insert 25 at index 2\n",
    "print(\"After insert(2, 25):\", numbers)\n",
    "numbers.remove(40)\n",
    "\n",
    "print(\"After remove(40):\", numbers)\n",
    "popped = numbers.pop()  # Removes last element\n",
    "print(\"After pop():\", numbers, \"| Popped element:\", popped)\n",
    "\n",
    "copy_list = numbers.copy()   # Copy for later operations\n",
    "numbers.clear()\n",
    "print(\"After clear():\", numbers)\n",
    "numbers = copy_list  \n",
    "print(\"Index of 25:\", numbers.index(25))\n",
    "\n",
    "numbers.append(20)  # Add duplicate for demonstration\n",
    "print(\"List after adding another 20:\", numbers)\n",
    "print(\"Count of 20:\", numbers.count(20))\n",
    "\n",
    "numbers.sort()\n",
    "print(\"After sort():\", numbers)\n",
    "\n",
    "numbers.reverse()\n",
    "print(\"After reverse():\", numbers)"
   ]
  },
  {
   "cell_type": "markdown",
   "id": "0322d59f-1b9d-4f25-ba11-bd6dd53f4e4d",
   "metadata": {},
   "source": [
    "##### 2.\tCreate a tuple that stores 3 student names. Try changing the second name in the tuple. What happens? Explain why."
   ]
  },
  {
   "cell_type": "code",
   "execution_count": 4,
   "id": "2db6370a-5198-4ea4-aded-1cd36bacd27d",
   "metadata": {},
   "outputs": [
    {
     "name": "stdout",
     "output_type": "stream",
     "text": [
      "Original tuple: ('Himani', 'Harshada', 'Heena')\n",
      "Error: 'tuple' object does not support item assignment\n"
     ]
    }
   ],
   "source": [
    "# Create a tuple of 3 student names\n",
    "students = (\"Himani\", \"Harshada\", \"Heena\")\n",
    "print(\"Original tuple:\", students)\n",
    "\n",
    "try:\n",
    "    students[1] = \"Neha\"   \n",
    "except TypeError as e:\n",
    "    print(\"Error:\", e)"
   ]
  },
  {
   "cell_type": "markdown",
   "id": "12c6e3fd-a2a2-43bf-b7db-62bb1e42f39c",
   "metadata": {},
   "source": [
    "##### 3.\tCreate a set of integers with some duplicate values. Print the set and explain the output."
   ]
  },
  {
   "cell_type": "code",
   "execution_count": 5,
   "id": "9e21d5c9-f8d7-4de9-8396-fa2e3d8e77a1",
   "metadata": {},
   "outputs": [
    {
     "name": "stdout",
     "output_type": "stream",
     "text": [
      "Set: {400, 100, 500, 200, 300}\n"
     ]
    }
   ],
   "source": [
    "numbers = {100, 200, 300, 200, 400, 100, 500}\n",
    "print(\"Set:\", numbers)"
   ]
  },
  {
   "cell_type": "markdown",
   "id": "1a70dfaf-0799-49ee-b30b-206432132157",
   "metadata": {},
   "source": [
    "##### 4.\tCreate a dictionary with the keys: 'name', 'age', and 'city'. Update the age and add a new key 'email'. Print the final dictionary."
   ]
  },
  {
   "cell_type": "code",
   "execution_count": 7,
   "id": "43cbc709-6051-4ac3-8cef-c4863953f094",
   "metadata": {},
   "outputs": [
    {
     "name": "stdout",
     "output_type": "stream",
     "text": [
      "Original dictionary: {'name': 'Himani', 'age': 23, 'city': 'Pune'}\n",
      "Final dictionary: {'name': 'Himani', 'age': 24, 'city': 'Pune', 'email': 'himani123@gmail.com'}\n"
     ]
    }
   ],
   "source": [
    "# Create a dictionary\n",
    "student = {\n",
    "    \"name\": \"Himani\",\n",
    "    \"age\": 23,\n",
    "    \"city\": \"Pune\"\n",
    "}\n",
    "\n",
    "print(\"Original dictionary:\", student)\n",
    "\n",
    "# Update the age\n",
    "student[\"age\"] = 24\n",
    "\n",
    "# Add a new key 'email'\n",
    "student[\"email\"] = \"himani123@gmail.com\"\n",
    "\n",
    "# Print the final dictionary\n",
    "print(\"Final dictionary:\", student)"
   ]
  },
  {
   "cell_type": "markdown",
   "id": "0330352a-f6f2-41ee-9d62-3b8e776bce16",
   "metadata": {},
   "source": [
    "##### 5 Write a script that checks if a person is eligible to vote (age ≥ 18). Take age as a variable and print the appropriate message."
   ]
  },
  {
   "cell_type": "code",
   "execution_count": 8,
   "id": "11d87923-b001-41bb-bf24-e619b6979766",
   "metadata": {},
   "outputs": [
    {
     "name": "stdout",
     "output_type": "stream",
     "text": [
      " No You are not eligible to vote. You must be at least 18 years old.\n"
     ]
    }
   ],
   "source": [
    "# Voting eligibility check\n",
    "age = 17   \n",
    "# Check eligibility\n",
    "if age >= 18:\n",
    "    print(\"Yes You are eligible to vote.\")\n",
    "else:\n",
    "    print(\" No You are not eligible to vote. You must be at least 18 years old.\")"
   ]
  },
  {
   "cell_type": "markdown",
   "id": "81f5d337-86c5-4a31-b15b-ac0749707596",
   "metadata": {},
   "source": [
    "##### 6.\tGiven a 'marks' variable, print the grade:\n",
    "- 90 and above: 'A'\n",
    "- 75–89: 'B'\n",
    "- 50–74: 'C'\n",
    "- Below 50: 'Fail'\n"
   ]
  },
  {
   "cell_type": "code",
   "execution_count": 9,
   "id": "f6f95262-3cbe-4028-8eaa-760d93dcb026",
   "metadata": {},
   "outputs": [
    {
     "name": "stdout",
     "output_type": "stream",
     "text": [
      "Marks: 82 → Grade: B\n"
     ]
    }
   ],
   "source": [
    "marks = 82   \n",
    "\n",
    "if marks >= 90:\n",
    "    grade = \"A\"\n",
    "elif marks >= 75:\n",
    "    grade = \"B\"\n",
    "elif marks >= 50:\n",
    "    grade = \"C\"\n",
    "else:\n",
    "    grade = \"Fail\"\n",
    "\n",
    "print(f\"Marks: {marks} → Grade: {grade}\")"
   ]
  },
  {
   "cell_type": "markdown",
   "id": "af76826c-7953-408b-88c4-ab3823bf902e",
   "metadata": {},
   "source": [
    "##### 7.\tGiven a number, check if it's positive, and if it is also even. If not positive, print if it's zero or negative."
   ]
  },
  {
   "cell_type": "code",
   "execution_count": 12,
   "id": "b21cf540-75ec-4eb0-a36a-6a9351e9678b",
   "metadata": {},
   "outputs": [
    {
     "name": "stdout",
     "output_type": "stream",
     "text": [
      "The number is negative.\n"
     ]
    }
   ],
   "source": [
    "num = -29   \n",
    "if num > 0:\n",
    "    print(\"The number is positive.\")\n",
    "    if num % 2 == 0:\n",
    "        print(\"It is also even.\")\n",
    "    else:\n",
    "        print(\"It is odd.\")\n",
    "elif num == 0:\n",
    "    print(\"The number is zero.\")\n",
    "else:\n",
    "    print(\"The number is negative.\")"
   ]
  },
  {
   "cell_type": "markdown",
   "id": "f61e97c9-e611-4ba8-b500-168000e14927",
   "metadata": {},
   "source": [
    "##### Section B: Numpy\n",
    "8.\tCreate:\n",
    "- A scalar using np.array(5)\n",
    "- A 1D array with values 1 to 5\n",
    "- A 2D array (2x3) with values from 10 to 60 in steps of 10\n"
   ]
  },
  {
   "cell_type": "code",
   "execution_count": 13,
   "id": "7328a8db-2d62-4a61-9a5e-f9d11be2fb05",
   "metadata": {},
   "outputs": [
    {
     "name": "stdout",
     "output_type": "stream",
     "text": [
      "Scalar (0-D array): 5\n",
      "1D array: [1 2 3 4 5]\n",
      "2D array:\n",
      " [[10 20 30]\n",
      " [40 50 60]]\n"
     ]
    }
   ],
   "source": [
    "import numpy as np\n",
    "\n",
    "scalar = np.array(5)\n",
    "print(\"Scalar (0-D array):\", scalar)\n",
    "\n",
    "arr_1d = np.array([1, 2, 3, 4, 5])\n",
    "print(\"1D array:\", arr_1d)\n",
    "\n",
    "arr_2d = np.array([[10, 20, 30],\n",
    "                   [40, 50, 60]])\n",
    "print(\"2D array:\\n\", arr_2d)"
   ]
  },
  {
   "cell_type": "markdown",
   "id": "94bfc154-adcf-4000-aa77-497b4ab193db",
   "metadata": {},
   "source": [
    "##### 9.\tGenerate a 4x4 Numpy array of random integers between 0 and 100 using np.random.randint()."
   ]
  },
  {
   "cell_type": "code",
   "execution_count": 14,
   "id": "390aa1fe-5a50-434a-8c46-5021d93058a9",
   "metadata": {},
   "outputs": [
    {
     "name": "stdout",
     "output_type": "stream",
     "text": [
      "4x4 Random Integer Array (0–100):\n",
      " [[64 35 28 38]\n",
      " [ 7 39 55 31]\n",
      " [60 88  6 23]\n",
      " [30 55 80 77]]\n"
     ]
    }
   ],
   "source": [
    "import numpy as np\n",
    "\n",
    "# Generate a 4x4 array of random integers between 0 and 100\n",
    "arr = np.random.randint(0, 101, size=(4, 4))\n",
    "print(\"4x4 Random Integer Array (0–100):\\n\", arr)"
   ]
  },
  {
   "cell_type": "markdown",
   "id": "51c496f7-f63d-47e0-bed4-130e2adb8f22",
   "metadata": {},
   "source": [
    "##### 10.\tCreate a 2D numpy array of shape (3x3). Convert it into a pandas DataFrame and add column names: 'A', 'B', 'C'."
   ]
  },
  {
   "cell_type": "code",
   "execution_count": 16,
   "id": "4d51ed62-7f52-456f-82ed-38f265c5c741",
   "metadata": {},
   "outputs": [
    {
     "name": "stdout",
     "output_type": "stream",
     "text": [
      "NumPy Array:\n",
      " [[10 20 30]\n",
      " [40 50 60]\n",
      " [70 80 90]]\n",
      "\n",
      "Pandas DataFrame:\n",
      "     A   B   C\n",
      "0  10  20  30\n",
      "1  40  50  60\n",
      "2  70  80  90\n"
     ]
    }
   ],
   "source": [
    "import numpy as np\n",
    "import pandas as pd\n",
    "\n",
    "# Create a 3x3 NumPy array\n",
    "arr = np.array([[10, 20, 30],\n",
    "                [40, 50, 60],\n",
    "                [70, 80, 90]])\n",
    "\n",
    "# Convert NumPy array into a Pandas DataFrame with column names\n",
    "df = pd.DataFrame(arr, columns=['A', 'B', 'C'])\n",
    "\n",
    "print(\"NumPy Array:\\n\", arr)\n",
    "print(\"\\nPandas DataFrame:\\n\", df)"
   ]
  },
  {
   "cell_type": "markdown",
   "id": "179b499c-4532-4333-915c-ab97f374ec1a",
   "metadata": {},
   "source": [
    "##### Section C: Exploring Pandas\n",
    "11.\tCreate a small DataFrame manually with 10 rows and columns: 'Name', 'Age', 'City', and 'Salary'. Then:\n",
    "- Use .info(), .describe()\n",
    "- Select 'Name' and 'City' columns\n",
    "- Drop 'City' column\n",
    "- Fill any missing values in 'Salary' column with the mean\n",
    "- Remove any duplicate rows\n"
   ]
  },
  {
   "cell_type": "code",
   "execution_count": 17,
   "id": "817cadd7-3699-4d73-bc76-daecbacd077f",
   "metadata": {},
   "outputs": [
    {
     "name": "stdout",
     "output_type": "stream",
     "text": [
      "Original DataFrame:\n",
      "      Name  Age     City   Salary\n",
      "0  Himani   25     Pune  50000.0\n",
      "1    Riya   30   Mumbai  60000.0\n",
      "2   Sohan   22    Delhi      NaN\n",
      "3    Neha   28     Pune  55000.0\n",
      "4    Amit   25     Pune  50000.0\n",
      "5   Kiran   35    Delhi  65000.0\n",
      "6   Meena   29   Mumbai  70000.0\n",
      "7    Ravi   40  Chennai      NaN\n",
      "8    Riya   30   Mumbai  60000.0\n",
      "9   Sohan   22    Delhi  45000.0\n",
      "\n",
      "DataFrame Info:\n",
      "<class 'pandas.core.frame.DataFrame'>\n",
      "RangeIndex: 10 entries, 0 to 9\n",
      "Data columns (total 4 columns):\n",
      " #   Column  Non-Null Count  Dtype  \n",
      "---  ------  --------------  -----  \n",
      " 0   Name    10 non-null     object \n",
      " 1   Age     10 non-null     int64  \n",
      " 2   City    10 non-null     object \n",
      " 3   Salary  8 non-null      float64\n",
      "dtypes: float64(1), int64(1), object(2)\n",
      "memory usage: 452.0+ bytes\n",
      "None\n",
      "\n",
      "DataFrame Description:\n",
      "             Age       Salary\n",
      "count  10.000000      8.00000\n",
      "mean   28.600000  56875.00000\n",
      "std     5.660781   8425.09008\n",
      "min    22.000000  45000.00000\n",
      "25%    25.000000  50000.00000\n",
      "50%    28.500000  57500.00000\n",
      "75%    30.000000  61250.00000\n",
      "max    40.000000  70000.00000\n",
      "\n",
      "Selecting 'Name' and 'City' columns:\n",
      "      Name     City\n",
      "0  Himani     Pune\n",
      "1    Riya   Mumbai\n",
      "2   Sohan    Delhi\n",
      "3    Neha     Pune\n",
      "4    Amit     Pune\n",
      "5   Kiran    Delhi\n",
      "6   Meena   Mumbai\n",
      "7    Ravi  Chennai\n",
      "8    Riya   Mumbai\n",
      "9   Sohan    Delhi\n",
      "\n",
      "DataFrame after dropping 'City' column:\n",
      "      Name  Age   Salary\n",
      "0  Himani   25  50000.0\n",
      "1    Riya   30  60000.0\n",
      "2   Sohan   22      NaN\n",
      "3    Neha   28  55000.0\n",
      "4    Amit   25  50000.0\n",
      "5   Kiran   35  65000.0\n",
      "6   Meena   29  70000.0\n",
      "7    Ravi   40      NaN\n",
      "8    Riya   30  60000.0\n",
      "9   Sohan   22  45000.0\n",
      "\n",
      "DataFrame after filling missing 'Salary' values with mean:\n",
      "      Name  Age     City   Salary\n",
      "0  Himani   25     Pune  50000.0\n",
      "1    Riya   30   Mumbai  60000.0\n",
      "2   Sohan   22    Delhi  56875.0\n",
      "3    Neha   28     Pune  55000.0\n",
      "4    Amit   25     Pune  50000.0\n",
      "5   Kiran   35    Delhi  65000.0\n",
      "6   Meena   29   Mumbai  70000.0\n",
      "7    Ravi   40  Chennai  56875.0\n",
      "8    Riya   30   Mumbai  60000.0\n",
      "9   Sohan   22    Delhi  45000.0\n",
      "\n",
      "DataFrame after removing duplicates:\n",
      "      Name  Age     City   Salary\n",
      "0  Himani   25     Pune  50000.0\n",
      "1    Riya   30   Mumbai  60000.0\n",
      "2   Sohan   22    Delhi  56875.0\n",
      "3    Neha   28     Pune  55000.0\n",
      "4    Amit   25     Pune  50000.0\n",
      "5   Kiran   35    Delhi  65000.0\n",
      "6   Meena   29   Mumbai  70000.0\n",
      "7    Ravi   40  Chennai  56875.0\n",
      "9   Sohan   22    Delhi  45000.0\n"
     ]
    }
   ],
   "source": [
    "import pandas as pd\n",
    "import numpy as np\n",
    "\n",
    "# Create a small DataFrame manually with 10 rows\n",
    "data = {\n",
    "    \"Name\": [\"Himani\", \"Riya\", \"Sohan\", \"Neha\", \"Amit\", \n",
    "             \"Kiran\", \"Meena\", \"Ravi\", \"Riya\", \"Sohan\"],\n",
    "    \"Age\": [25, 30, 22, 28, 25, 35, 29, 40, 30, 22],\n",
    "    \"City\": [\"Pune\", \"Mumbai\", \"Delhi\", \"Pune\", \"Pune\", \n",
    "             \"Delhi\", \"Mumbai\", \"Chennai\", \"Mumbai\", \"Delhi\"],\n",
    "    \"Salary\": [50000, 60000, np.nan, 55000, 50000, \n",
    "               65000, 70000, np.nan, 60000, 45000]\n",
    "}\n",
    "\n",
    "df = pd.DataFrame(data)\n",
    "print(\"Original DataFrame:\\n\", df)\n",
    "\n",
    "# 1. Use .info()\n",
    "print(\"\\nDataFrame Info:\")\n",
    "print(df.info())\n",
    "\n",
    "# 2. Use .describe()\n",
    "print(\"\\nDataFrame Description:\")\n",
    "print(df.describe())\n",
    "\n",
    "# 3. Select 'Name' and 'City' columns\n",
    "print(\"\\nSelecting 'Name' and 'City' columns:\\n\", df[['Name', 'City']])\n",
    "\n",
    "# 4. Drop 'City' column\n",
    "df_no_city = df.drop(columns=['City'])\n",
    "print(\"\\nDataFrame after dropping 'City' column:\\n\", df_no_city)\n",
    "\n",
    "# 5. Fill missing values in 'Salary' with mean\n",
    "mean_salary = df['Salary'].mean()\n",
    "df['Salary'] = df['Salary'].fillna(mean_salary)\n",
    "print(\"\\nDataFrame after filling missing 'Salary' values with mean:\\n\", df)\n",
    "\n",
    "# 6. Remove duplicate rows\n",
    "df_no_duplicates = df.drop_duplicates()\n",
    "print(\"\\nDataFrame after removing duplicates:\\n\", df_no_duplicates)\n",
    "\n",
    "\n"
   ]
  }
 ],
 "metadata": {
  "kernelspec": {
   "display_name": "Python 3 (ipykernel)",
   "language": "python",
   "name": "python3"
  },
  "language_info": {
   "codemirror_mode": {
    "name": "ipython",
    "version": 3
   },
   "file_extension": ".py",
   "mimetype": "text/x-python",
   "name": "python",
   "nbconvert_exporter": "python",
   "pygments_lexer": "ipython3",
   "version": "3.13.5"
  }
 },
 "nbformat": 4,
 "nbformat_minor": 5
}
