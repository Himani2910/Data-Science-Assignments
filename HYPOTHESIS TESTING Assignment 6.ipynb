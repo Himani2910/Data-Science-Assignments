{
 "cells": [
  {
   "cell_type": "code",
   "execution_count": null,
   "id": "308f5de9-aea2-4328-95d6-b227c149e4ca",
   "metadata": {},
   "outputs": [],
   "source": [
    "Hypothesis Testing"
   ]
  },
  {
   "cell_type": "code",
   "execution_count": null,
   "id": "d1271393-cc9d-4208-a3fc-8ba220ed57af",
   "metadata": {},
   "outputs": [],
   "source": [
    "1. Chi-Square Test (from Chisquare test.docx)"
   ]
  },
  {
   "cell_type": "code",
   "execution_count": 1,
   "id": "7e2be853-32fc-4041-8c9d-ac3db262ceaa",
   "metadata": {},
   "outputs": [],
   "source": [
    "# Chi-Square Test for Association between Device Type and Customer Satisfaction\n",
    "\n",
    "import pandas as pd\n",
    "import numpy as np\n",
    "from scipy.stats import chi2_contingency, chi2"
   ]
  },
  {
   "cell_type": "code",
   "execution_count": 2,
   "id": "ed952975-08b4-4354-a9db-92ef3abd1be4",
   "metadata": {},
   "outputs": [],
   "source": [
    "# Step 1: Create the contingency table\n",
    "data = {\n",
    "    \"Very Satisfied\": [50, 70],\n",
    "    \"Satisfied\": [80, 100],\n",
    "    \"Neutral\": [60, 90],\n",
    "    \"Unsatisfied\": [30, 50],\n",
    "    \"Very Unsatisfied\": [20, 50]\n",
    "}\n",
    "contingency_table = pd.DataFrame(data, index=[\"Smart Thermostat\", \"Smart Light\"])"
   ]
  },
  {
   "cell_type": "code",
   "execution_count": 3,
   "id": "eb6472ac-b843-4d9f-864f-521a406b1594",
   "metadata": {},
   "outputs": [],
   "source": [
    "# Step 2: Perform Chi-Square test\n",
    "chi2_stat, p_value, dof, expected = chi2_contingency(contingency_table)"
   ]
  },
  {
   "cell_type": "code",
   "execution_count": 4,
   "id": "5c31ecf6-874d-4068-9f0a-4de4b33659ef",
   "metadata": {},
   "outputs": [],
   "source": [
    "# Step 3: Critical value at alpha = 0.05\n",
    "alpha = 0.05\n",
    "critical_value = chi2.ppf(1 - alpha, dof)"
   ]
  },
  {
   "cell_type": "code",
   "execution_count": 5,
   "id": "01dc6b4f-d7f0-4608-b33f-4c8d7c2283b8",
   "metadata": {},
   "outputs": [
    {
     "data": {
      "text/plain": [
       "(                  Very Satisfied  Satisfied  Neutral  Unsatisfied  \\\n",
       " Smart Thermostat              50         80       60           30   \n",
       " Smart Light                   70        100       90           50   \n",
       " \n",
       "                   Very Unsatisfied  \n",
       " Smart Thermostat                20  \n",
       " Smart Light                     50  ,\n",
       "                   Very Satisfied  Satisfied  Neutral  Unsatisfied  \\\n",
       " Smart Thermostat            48.0       72.0     60.0         32.0   \n",
       " Smart Light                 72.0      108.0     90.0         48.0   \n",
       " \n",
       "                   Very Unsatisfied  \n",
       " Smart Thermostat              28.0  \n",
       " Smart Light                   42.0  ,\n",
       " np.float64(5.638227513227513),\n",
       " np.float64(9.487729036781154),\n",
       " np.float64(0.22784371130697179),\n",
       " 'Fail to Reject H0')"
      ]
     },
     "execution_count": 5,
     "metadata": {},
     "output_type": "execute_result"
    }
   ],
   "source": [
    "# Step 4: Results\n",
    "contingency_table, pd.DataFrame(expected, index=contingency_table.index, columns=contingency_table.columns), chi2_stat, critical_value, p_value, (\"Reject H0\" if chi2_stat > critical_value else \"Fail to Reject H0\")"
   ]
  },
  {
   "cell_type": "code",
   "execution_count": null,
   "id": "c2d3dbf9-8443-4074-9427-80b9978492e2",
   "metadata": {},
   "outputs": [],
   "source": [
    "2. Hypothesis Testing (from Hypothesis testing.docx)"
   ]
  },
  {
   "cell_type": "code",
   "execution_count": 6,
   "id": "2518f8f6-f448-40f3-b476-a78e460d43ae",
   "metadata": {},
   "outputs": [],
   "source": [
    "# Hypothesis Testing for Weekly Operating Costs\n",
    "\n",
    "import numpy as np\n",
    "from scipy.stats import norm\n"
   ]
  },
  {
   "cell_type": "code",
   "execution_count": 7,
   "id": "d6b0469f-3600-46d5-9abe-dba61f035661",
   "metadata": {},
   "outputs": [],
   "source": [
    "# Step 1: Known parameters\n",
    "sample_mean = 3050   # Rs.\n",
    "n = 25\n",
    "X_mean = 600\n",
    "X_sd = 25"
   ]
  },
  {
   "cell_type": "code",
   "execution_count": 8,
   "id": "097cf6e0-5a22-4d3c-b27d-8fcc3490113c",
   "metadata": {},
   "outputs": [],
   "source": [
    "# Theoretical mean weekly cost: W = 1000 + 5*X\n",
    "mu = 1000 + 5 * X_mean  # Expected mean\n",
    "sigma = 5 * X_sd        # Standard deviation\n",
    "se = sigma / np.sqrt(n) # Standard error"
   ]
  },
  {
   "cell_type": "code",
   "execution_count": 9,
   "id": "a4af2272-6f0e-45d0-98fe-ed461656644c",
   "metadata": {},
   "outputs": [],
   "source": [
    "# Step 2: Test statistic (Z-score since n is large and σ known)\n",
    "z_stat = (sample_mean - mu) / se"
   ]
  },
  {
   "cell_type": "code",
   "execution_count": 10,
   "id": "d3a85a2c-b473-47a6-9c7e-7f8989d1b335",
   "metadata": {},
   "outputs": [],
   "source": [
    "# Step 3: Critical value at alpha = 0.05 (right-tailed test)\n",
    "alpha = 0.05\n",
    "critical_value = norm.ppf(1 - alpha)\n"
   ]
  },
  {
   "cell_type": "code",
   "execution_count": 11,
   "id": "1290cbb5-9431-422f-b68e-51a737c9eacb",
   "metadata": {},
   "outputs": [
    {
     "data": {
      "text/plain": [
       "(4000,\n",
       " 125,\n",
       " np.float64(25.0),\n",
       " np.float64(-38.0),\n",
       " np.float64(1.6448536269514722),\n",
       " 'Fail to Reject H0')"
      ]
     },
     "execution_count": 11,
     "metadata": {},
     "output_type": "execute_result"
    }
   ],
   "source": [
    "# Step 4: Results\n",
    "mu, sigma, se, z_stat, critical_value, (\"Reject H0\" if z_stat > critical_value else \"Fail to Reject H0\")"
   ]
  },
  {
   "cell_type": "code",
   "execution_count": null,
   "id": "37dbd105-e930-4c10-a631-f329d6ef535c",
   "metadata": {},
   "outputs": [],
   "source": [
    "Summary "
   ]
  },
  {
   "cell_type": "code",
   "execution_count": null,
   "id": "95585d6d-e3e0-4887-a66b-aed1d666aced",
   "metadata": {},
   "outputs": [],
   "source": [
    "We work on tables, Statistics, Decision"
   ]
  }
 ],
 "metadata": {
  "kernelspec": {
   "display_name": "Python [conda env:base] *",
   "language": "python",
   "name": "conda-base-py"
  },
  "language_info": {
   "codemirror_mode": {
    "name": "ipython",
    "version": 3
   },
   "file_extension": ".py",
   "mimetype": "text/x-python",
   "name": "python",
   "nbconvert_exporter": "python",
   "pygments_lexer": "ipython3",
   "version": "3.13.5"
  }
 },
 "nbformat": 4,
 "nbformat_minor": 5
}
