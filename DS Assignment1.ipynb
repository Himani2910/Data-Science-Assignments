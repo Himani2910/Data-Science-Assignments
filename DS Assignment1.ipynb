{
 "cells": [
  {
   "cell_type": "markdown",
   "id": "e77d54b1-6fc2-4d3d-ae13-4ea8e7413bff",
   "metadata": {},
   "source": [
    "# PYTHON PROGRAMMING ASSIGNMENT"
   ]
  },
  {
   "cell_type": "markdown",
   "id": "8450e178-dd72-490d-8feb-df71279c1ab3",
   "metadata": {},
   "source": [
    "## Exercise 1: Prime Numbers"
   ]
  },
  {
   "cell_type": "markdown",
   "id": "f867c654-1073-426a-bcf5-ce14b35644d5",
   "metadata": {},
   "source": [
    "##### Write a Python program that checks whether a given number is prime or not. A prime number is a natural number greater than 1 that has no positive divisors other than 1 and itself."
   ]
  },
  {
   "cell_type": "code",
   "execution_count": 9,
   "id": "2ab6d478-bb90-4fa7-acd8-e51f183509a0",
   "metadata": {},
   "outputs": [
    {
     "name": "stdin",
     "output_type": "stream",
     "text": [
      "Enter a number 3\n"
     ]
    },
    {
     "name": "stdout",
     "output_type": "stream",
     "text": [
      "3 is a prime number\n"
     ]
    }
   ],
   "source": [
    "#Prime Numner Checker\n",
    "num=int(input(\"Enter a number\"))\n",
    "#prime number is greater than 1\n",
    "if num > 1:\n",
    "    for i in range(2,int(num**0.5)+1):\n",
    "        if num % i==0:\n",
    "            print(num,\"is not a prime number\")\n",
    "            break\n",
    "    else:\n",
    "        print(num,\"is a prime number\")\n",
    "else:\n",
    "    print(num,\"is not a prime number\")\n",
    "        "
   ]
  },
  {
   "cell_type": "markdown",
   "id": "fcabc096-a47d-4f26-999e-131aefb2c917",
   "metadata": {},
   "source": [
    "### Exercise 2: Product of Random Numbers\n"
   ]
  },
  {
   "cell_type": "markdown",
   "id": "80387cee-003e-423f-8cb2-4f7cc9493305",
   "metadata": {},
   "source": [
    "##### Develop a Python program that generates two random numbers and asks the user to enter the product of these numbers. The program should then check if the user's answer is correct and display an appropriate message."
   ]
  },
  {
   "cell_type": "code",
   "execution_count": 16,
   "id": "c551a273-da6a-408d-96aa-4d74dd85dee4",
   "metadata": {},
   "outputs": [
    {
     "name": "stdout",
     "output_type": "stream",
     "text": [
      "What is 8 × 4?\n"
     ]
    },
    {
     "name": "stdin",
     "output_type": "stream",
     "text": [
      "Enter your answer:  32\n"
     ]
    },
    {
     "name": "stdout",
     "output_type": "stream",
     "text": [
      "Yes Correct! Well done.\n"
     ]
    }
   ],
   "source": [
    "import random\n",
    "\n",
    "# Generate two random numbers\n",
    "num1 = random.randint(1, 10)\n",
    "num2 = random.randint(1, 10)\n",
    "\n",
    "# Ask user for the product\n",
    "print(f\"What is {num1} × {num2}?\")\n",
    "user_answer = int(input(\"Enter your answer: \"))\n",
    "correct_answer = num1 * num2\n",
    "if user_answer == correct_answer:\n",
    "    print(\"Yes Correct! Well done.\")\n",
    "else:\n",
    "    print(f\"Wrong Incorrect. The correct answer is {correct_answer}.\")"
   ]
  },
  {
   "cell_type": "markdown",
   "id": "c62a3ba2-47f4-40e2-b192-5b1e2a729b03",
   "metadata": {},
   "source": [
    "## Exercise 3: Squares of Even/Odd Numbers"
   ]
  },
  {
   "cell_type": "markdown",
   "id": "c76cdd0e-ad7a-4340-9aa0-4e05f215a0a6",
   "metadata": {},
   "source": [
    "##### Create a Python script that prints the squares of all even or odd numbers within the range of 100 to 200. Choose either even or odd numbers and document your choice in the code."
   ]
  },
  {
   "cell_type": "code",
   "execution_count": 19,
   "id": "78855988-2cb6-4ed8-80f0-53d89150b9a9",
   "metadata": {},
   "outputs": [
    {
     "name": "stdout",
     "output_type": "stream",
     "text": [
      "100^2 = 10000\n",
      "102^2 = 10404\n",
      "104^2 = 10816\n",
      "106^2 = 11236\n",
      "108^2 = 11664\n",
      "110^2 = 12100\n",
      "112^2 = 12544\n",
      "114^2 = 12996\n",
      "116^2 = 13456\n",
      "118^2 = 13924\n",
      "120^2 = 14400\n",
      "122^2 = 14884\n",
      "124^2 = 15376\n",
      "126^2 = 15876\n",
      "128^2 = 16384\n",
      "130^2 = 16900\n",
      "132^2 = 17424\n",
      "134^2 = 17956\n",
      "136^2 = 18496\n",
      "138^2 = 19044\n",
      "140^2 = 19600\n",
      "142^2 = 20164\n",
      "144^2 = 20736\n",
      "146^2 = 21316\n",
      "148^2 = 21904\n",
      "150^2 = 22500\n",
      "152^2 = 23104\n",
      "154^2 = 23716\n",
      "156^2 = 24336\n",
      "158^2 = 24964\n",
      "160^2 = 25600\n",
      "162^2 = 26244\n",
      "164^2 = 26896\n",
      "166^2 = 27556\n",
      "168^2 = 28224\n",
      "170^2 = 28900\n",
      "172^2 = 29584\n",
      "174^2 = 30276\n",
      "176^2 = 30976\n",
      "178^2 = 31684\n",
      "180^2 = 32400\n",
      "182^2 = 33124\n",
      "184^2 = 33856\n",
      "186^2 = 34596\n",
      "188^2 = 35344\n",
      "190^2 = 36100\n",
      "192^2 = 36864\n",
      "194^2 = 37636\n",
      "196^2 = 38416\n",
      "198^2 = 39204\n",
      "200^2 = 40000\n"
     ]
    }
   ],
   "source": [
    "for num in range(100, 201):  \n",
    "    if num % 2 == 0: \n",
    "        print(f\"{num}^2 = {num ** 2}\")\n"
   ]
  },
  {
   "cell_type": "markdown",
   "id": "60dc2f91-a957-4a4b-aa04-1d2090e4b50b",
   "metadata": {},
   "source": [
    "## Exercise 4:\n",
    "✅ Problem Statement (Question): Hospital Billing System\n"
   ]
  },
  {
   "cell_type": "markdown",
   "id": "77a125f2-5b13-441d-8389-4b6321383132",
   "metadata": {},
   "source": [
    "#### A hospital charges its patients based on the following:\n",
    "•\tRoom charges per day: ₹2,000\n",
    "•\tDoctor consultation fee (flat): ₹1,500\n",
    "•\tLab test charges: Based on the number of tests taken. Each test costs ₹300\n",
    "•\tMedicine charges: Total cost of medicines provided\n",
    "•\tDiscount: If the total bill (before discount) exceeds ₹10,000, a 10% discount is applied\n",
    "Write a Python program to calculate the final bill for a patient who:\n",
    "•\tStayed for 4 days\n",
    "•\tHad 3 lab tests\n",
    "•\tHad medicine charges of ₹2,400\n",
    "####\n",
    "\n"
   ]
  },
  {
   "cell_type": "code",
   "execution_count": 21,
   "id": "37520aa3-9373-4966-82ec-ce3729a59c55",
   "metadata": {},
   "outputs": [
    {
     "name": "stdout",
     "output_type": "stream",
     "text": [
      "----- Hospital Bill -----\n",
      "Room Charges: ₹8000\n",
      "Consultation Fee: ₹1500\n",
      "Lab Test Charges: ₹900\n",
      "Medicine Charges: ₹2400\n",
      "Total (before discount): ₹12800\n",
      "Discount: ₹1280.0\n",
      "Final Bill: ₹11520.0\n"
     ]
    }
   ],
   "source": [
    "# Given data\n",
    "room_charge_per_day = 2000\n",
    "consultation_fee = 1500\n",
    "lab_test_charge = 300\n",
    "discount_rate = 0.10\n",
    "\n",
    "# Patient details\n",
    "days_stayed = 4\n",
    "num_tests = 3\n",
    "medicine_charges = 2400\n",
    "\n",
    "# Calculations\n",
    "room_charges = room_charge_per_day * days_stayed\n",
    "lab_charges = lab_test_charge * num_tests\n",
    "total_bill = room_charges + consultation_fee + lab_charges + medicine_charges\n",
    "\n",
    "# Apply discount if applicable\n",
    "if total_bill > 10000:\n",
    "    discount = total_bill * discount_rate\n",
    "else:\n",
    "    discount = 0\n",
    "\n",
    "final_bill = total_bill - discount\n",
    "\n",
    "# Output\n",
    "print(\"----- Hospital Bill -----\")\n",
    "print(f\"Room Charges: ₹{room_charges}\")\n",
    "print(f\"Consultation Fee: ₹{consultation_fee}\")\n",
    "print(f\"Lab Test Charges: ₹{lab_charges}\")\n",
    "print(f\"Medicine Charges: ₹{medicine_charges}\")\n",
    "print(f\"Total (before discount): ₹{total_bill}\")\n",
    "print(f\"Discount: ₹{discount}\")\n",
    "print(f\"Final Bill: ₹{final_bill}\")"
   ]
  },
  {
   "cell_type": "code",
   "execution_count": null,
   "id": "c503c4a5-3399-46a9-9de4-f54f9be8aeda",
   "metadata": {},
   "outputs": [],
   "source": []
  }
 ],
 "metadata": {
  "kernelspec": {
   "display_name": "Python 3 (ipykernel)",
   "language": "python",
   "name": "python3"
  },
  "language_info": {
   "codemirror_mode": {
    "name": "ipython",
    "version": 3
   },
   "file_extension": ".py",
   "mimetype": "text/x-python",
   "name": "python",
   "nbconvert_exporter": "python",
   "pygments_lexer": "ipython3",
   "version": "3.13.5"
  }
 },
 "nbformat": 4,
 "nbformat_minor": 5
}
