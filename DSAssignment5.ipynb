{
 "cells": [
  {
   "cell_type": "markdown",
   "id": "5e1d2a6a-e27d-46be-8d51-006d5827743c",
   "metadata": {},
   "source": [
    "## EXPLORATORY DATA ANALYSIS ON A DATASET ##"
   ]
  },
  {
   "cell_type": "markdown",
   "id": "933cda9f-c28e-4a19-b7de-2087520e95a0",
   "metadata": {},
   "source": [
    "#### Objective:\n",
    "The main goal of this assignment is to conduct a thorough exploratory analysis of the \"cardiographic.csv\" dataset to uncover insights, identify patterns, and understand the dataset's underlying structure. You will use statistical summaries, visualizations, and data manipulation techniques to explore the dataset comprehensively.\n",
    "####"
   ]
  },
  {
   "cell_type": "markdown",
   "id": "ef9d2317-c089-413e-a6cb-b050b91eda65",
   "metadata": {},
   "source": [
    "#### Dataset:\n",
    "1.\tLB - Likely stands for \"Baseline Fetal Heart Rate (FHR)\" which represents the average fetal heart rate over a period.\n",
    "####"
   ]
  },
  {
   "cell_type": "code",
   "execution_count": null,
   "id": "43c7ec02-1642-4fd0-a646-8e928815b1a2",
   "metadata": {},
   "outputs": [],
   "source": []
  },
  {
   "cell_type": "code",
   "execution_count": null,
   "id": "4a39c49f-5663-43d9-a437-a1a231b48884",
   "metadata": {},
   "outputs": [],
   "source": []
  },
  {
   "cell_type": "code",
   "execution_count": null,
   "id": "3b0b1f3c-454d-4080-999d-32ff0def2e22",
   "metadata": {},
   "outputs": [],
   "source": []
  }
 ],
 "metadata": {
  "kernelspec": {
   "display_name": "Python 3 (ipykernel)",
   "language": "python",
   "name": "python3"
  },
  "language_info": {
   "codemirror_mode": {
    "name": "ipython",
    "version": 3
   },
   "file_extension": ".py",
   "mimetype": "text/x-python",
   "name": "python",
   "nbconvert_exporter": "python",
   "pygments_lexer": "ipython3",
   "version": "3.13.5"
  }
 },
 "nbformat": 4,
 "nbformat_minor": 5
}
